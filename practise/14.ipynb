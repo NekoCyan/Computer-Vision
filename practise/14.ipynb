{
 "cells": [
  {
   "cell_type": "code",
   "execution_count": 1,
   "id": "1ebff4d8-b028-4865-8cbe-deaa847d2d8b",
   "metadata": {},
   "outputs": [],
   "source": [
    "import numpy as np\n",
    "from PIL import Image\n",
    "\n",
    "\n",
    "def average_images(image_list):\n",
    "    total_array = np.array(Image.open(image_list[0]), \"f\")\n",
    "    count = 1\n",
    "\n",
    "    for image_path in image_list[1:]:\n",
    "        try:\n",
    "            image_array = np.array(Image.open(image_path), \"f\")\n",
    "            total_array += image_array\n",
    "            count = count + 1\n",
    "        except:\n",
    "            print(\"Skip \", image_path)\n",
    "\n",
    "    # Tính trung bình\n",
    "    average_array = total_array / count\n",
    "\n",
    "    # Chuyển đổi kết quả trung bình thành hình ảnh\n",
    "    average_image = Image.fromarray(average_array.astype(\"uint8\"))\n",
    "\n",
    "    return average_image\n",
    "\n",
    "\n",
    "# Sử dụng ví dụ:\n",
    "my_path_1 = \"C:/Users/admin/Documents/GitHub/Computer-Vision/Images/image0.jpg\"\n",
    "my_path_2 = \"C:/Users/admin/Documents/GitHub/Computer-Vision/Images/image1.jpg\"\n",
    "image_list = [my_path_1, my_path_2]\n",
    "result_image = average_images(image_list)\n",
    "display(result_image)\n",
    "\n",
    "\n",
    "# Sử dụng ví dụ:\n",
    "my_path_1 = \"C:/Users/admin/Documents/GitHub/Computer-Vision/Images/image0.jpg\"\n",
    "my_path_2 = \"C:/Users/admin/Documents/GitHub/Computer-Vision/Images/image0.jpg\"\n",
    "image_list = [my_path_1, my_path_2]\n",
    "result_image = average_images(image_list)\n",
    "display(result_image)"
   ]
  }
 ],
 "metadata": {
  "kernelspec": {
   "display_name": "Python 3 (ipykernel)",
   "language": "python",
   "name": "python3"
  },
  "language_info": {
   "codemirror_mode": {
    "name": "ipython",
    "version": 3
   },
   "file_extension": ".py",
   "mimetype": "text/x-python",
   "name": "python",
   "nbconvert_exporter": "python",
   "pygments_lexer": "ipython3",
   "version": "3.12.4"
  }
 },
 "nbformat": 4,
 "nbformat_minor": 5
}
