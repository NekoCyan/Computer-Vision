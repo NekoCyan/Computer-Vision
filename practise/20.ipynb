{
 "cells": [
  {
   "cell_type": "code",
   "execution_count": 3,
   "id": "1ebff4d8-b028-4865-8cbe-deaa847d2d8b",
   "metadata": {},
   "outputs": [],
   "source": [
    "import cv2\n",
    "import numpy as np\n",
    "\n",
    "def displayImages(title: str, waitKey: int, imgs: list):\n",
    "    for i in range(len(imgs)):\n",
    "        cv2.imshow(title + str(i), imgs[i])\n",
    "    cv2.waitKey(waitKey)\n",
    "    cv2.destroyAllWindows()"
   ]
  },
  {
   "cell_type": "code",
   "execution_count": 10,
   "id": "da1d512b",
   "metadata": {},
   "outputs": [],
   "source": [
    "# Create a blank image\n",
    "img = np.zeros((400, 400, 3), dtype=np.uint8)\n",
    "displayImages(\"Image\", 0, [img])"
   ]
  },
  {
   "cell_type": "code",
   "execution_count": 11,
   "id": "a6250546",
   "metadata": {},
   "outputs": [],
   "source": [
    "# Draw a line\n",
    "cv2.line(img, (50, 50), (350, 50), (0, 0, 255), 2)\n",
    "displayImages(\"Line\", 0, [img])"
   ]
  },
  {
   "cell_type": "code",
   "execution_count": 27,
   "id": "6fc6293a",
   "metadata": {},
   "outputs": [],
   "source": [
    "# Draw a circle\n",
    "cv2.circle(img, (100, 100), 50, (0, 255, 0), -1)\n",
    "displayImages(\"Circle\", 0, [img])"
   ]
  },
  {
   "cell_type": "code",
   "execution_count": 28,
   "id": "7ea84e13",
   "metadata": {},
   "outputs": [],
   "source": [
    "# Draw a rectangle\n",
    "cv2.rectangle(img, (100, 100), (300, 300), (255, 0, 0), 2)\n",
    "displayImages(\"Rectangle\", 0, [img])"
   ]
  },
  {
   "cell_type": "code",
   "execution_count": 29,
   "id": "cc85a2bf",
   "metadata": {},
   "outputs": [],
   "source": [
    "# Draw a text\n",
    "text = \"Neko Cyan\"\n",
    "font = cv2.FONT_HERSHEY_SIMPLEX\n",
    "cv2.putText(img, text, (10, 380), font, 0.6, (255, 255, 255), 2)\n",
    "displayImages(\"Text\", 0, [img])"
   ]
  }
 ],
 "metadata": {
  "kernelspec": {
   "display_name": "base",
   "language": "python",
   "name": "python3"
  },
  "language_info": {
   "codemirror_mode": {
    "name": "ipython",
    "version": 3
   },
   "file_extension": ".py",
   "mimetype": "text/x-python",
   "name": "python",
   "nbconvert_exporter": "python",
   "pygments_lexer": "ipython3",
   "version": "3.12.4"
  }
 },
 "nbformat": 4,
 "nbformat_minor": 5
}
