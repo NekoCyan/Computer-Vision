{
 "cells": [
  {
   "cell_type": "code",
   "execution_count": 1,
   "id": "1ebff4d8-b028-4865-8cbe-deaa847d2d8b",
   "metadata": {},
   "outputs": [],
   "source": [
    "import cv2\n",
    "import time"
   ]
  },
  {
   "cell_type": "code",
   "execution_count": 2,
   "id": "de4cc005",
   "metadata": {},
   "outputs": [],
   "source": [
    "folderPath = \"C:/Users/admin/Documents/GitHub/Computer-Vision/Images\"\n",
    "videoPath = folderPath + \"/CristianoRonaldoDrinking.mp4\""
   ]
  },
  {
   "cell_type": "code",
   "execution_count": 3,
   "id": "162873de",
   "metadata": {},
   "outputs": [],
   "source": [
    "myVideo = cv2.VideoCapture(videoPath)"
   ]
  },
  {
   "cell_type": "code",
   "execution_count": 4,
   "id": "6818466d",
   "metadata": {},
   "outputs": [],
   "source": [
    "cv2.namedWindow('7Drinking', cv2.WINDOW_NORMAL)"
   ]
  },
  {
   "cell_type": "code",
   "execution_count": 5,
   "id": "304006be",
   "metadata": {},
   "outputs": [],
   "source": [
    "# Hiển thị từng khung ảnh\n",
    "while True:\n",
    "    # Đọc 1 frame\n",
    "    ret, frame = myVideo.read()\n",
    "\n",
    "    # Thoát khi không thể đọc được frame\n",
    "    if not ret:\n",
    "        break\n",
    "\n",
    "    # Hiển thị\n",
    "    cv2.imshow(\"7Drinking\", frame)\n",
    "\n",
    "    if cv2.waitKey(10) == ord(\"q\"):\n",
    "        break\n",
    "\n",
    "    time.sleep(1/60)"
   ]
  },
  {
   "cell_type": "code",
   "execution_count": 6,
   "id": "8f493906",
   "metadata": {},
   "outputs": [],
   "source": [
    "myVideo.release()\n",
    "cv2.destroyAllWindows()"
   ]
  }
 ],
 "metadata": {
  "kernelspec": {
   "display_name": "base",
   "language": "python",
   "name": "python3"
  },
  "language_info": {
   "codemirror_mode": {
    "name": "ipython",
    "version": 3
   },
   "file_extension": ".py",
   "mimetype": "text/x-python",
   "name": "python",
   "nbconvert_exporter": "python",
   "pygments_lexer": "ipython3",
   "version": "3.12.4"
  }
 },
 "nbformat": 4,
 "nbformat_minor": 5
}
