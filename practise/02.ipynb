{
 "cells": [
  {
   "cell_type": "code",
   "execution_count": 8,
   "id": "1ebff4d8-b028-4865-8cbe-deaa847d2d8b",
   "metadata": {},
   "outputs": [],
   "source": [
    "from PIL import Image\n",
    "from imgTools import *"
   ]
  },
  {
   "cell_type": "code",
   "execution_count": 14,
   "id": "de4cc005",
   "metadata": {},
   "outputs": [],
   "source": [
    "imageDir = 'E:/Neko/Image'"
   ]
  },
  {
   "cell_type": "code",
   "execution_count": 16,
   "id": "2332d3ee-c753-484d-8153-22fae7283db3",
   "metadata": {},
   "outputs": [
    {
     "name": "stdout",
     "output_type": "stream",
     "text": [
      "Images count: 49\n"
     ]
    }
   ],
   "source": [
    "imageList = get_image_list(imageDir)\n",
    "print(\"Images count:\", len(imageList))"
   ]
  }
 ],
 "metadata": {
  "kernelspec": {
   "display_name": "Python 3 (ipykernel)",
   "language": "python",
   "name": "python3"
  },
  "language_info": {
   "codemirror_mode": {
    "name": "ipython",
    "version": 3
   },
   "file_extension": ".py",
   "mimetype": "text/x-python",
   "name": "python",
   "nbconvert_exporter": "python",
   "pygments_lexer": "ipython3",
   "version": "3.12.4"
  }
 },
 "nbformat": 4,
 "nbformat_minor": 5
}
