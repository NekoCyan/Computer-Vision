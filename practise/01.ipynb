{
 "cells": [
  {
   "cell_type": "code",
   "execution_count": 19,
   "id": "1ebff4d8-b028-4865-8cbe-deaa847d2d8b",
   "metadata": {},
   "outputs": [],
   "source": [
    "from PIL import Image"
   ]
  },
  {
   "cell_type": "code",
   "execution_count": 20,
   "id": "de4cc005",
   "metadata": {},
   "outputs": [],
   "source": [
    "dir = 'E:/Neko/Image'"
   ]
  },
  {
   "cell_type": "code",
   "execution_count": 21,
   "id": "2332d3ee-c753-484d-8153-22fae7283db3",
   "metadata": {},
   "outputs": [
    {
     "name": "stdout",
     "output_type": "stream",
     "text": [
      "E:/Neko/Image/image0.jpg\n"
     ]
    }
   ],
   "source": [
    "imagePath = dir + \"/image0.jpg\"\n",
    "print(imagePath)"
   ]
  },
  {
   "cell_type": "code",
   "execution_count": 22,
   "metadata": {},
   "outputs": [],
   "source": [
    "imgCTX = Image.open(imagePath)"
   ]
  },
  {
   "cell_type": "code",
   "execution_count": 31,
   "id": "6fe77c1e",
   "metadata": {},
   "outputs": [
    {
     "name": "stdout",
     "output_type": "stream",
     "text": [
      "Định dạng ảnh:  JPEG\n",
      "Kích thước ảnh:  (1536, 2048)\n"
     ]
    }
   ],
   "source": [
    "### Display image.\n",
    "# display(imgCTX)\n",
    "### Image information.\n",
    "print(\"Định dạng ảnh:\", imgCTX.format)\n",
    "print(\"Kích thước ảnh:\", imgCTX.size)"
   ]
  },
  {
   "cell_type": "code",
   "execution_count": 32,
   "id": "bccf9880",
   "metadata": {},
   "outputs": [],
   "source": [
    "# Save & Reformat image.\n",
    "newImagePath = dir + \"/image0-new.jpg\"\n",
    "newImagePathPNG = dir + \"/image0-new.png\"\n",
    "imgCTX.save(newImagePath)\n",
    "imgCTX.save(newImagePathPNG)"
   ]
  },
  {
   "cell_type": "code",
   "execution_count": 33,
   "id": "4c17a826",
   "metadata": {},
   "outputs": [],
   "source": [
    "imgCTX.close()"
   ]
  }
 ],
 "metadata": {
  "kernelspec": {
   "display_name": "Python 3 (ipykernel)",
   "language": "python",
   "name": "python3"
  },
  "language_info": {
   "codemirror_mode": {
    "name": "ipython",
    "version": 3
   },
   "file_extension": ".py",
   "mimetype": "text/x-python",
   "name": "python",
   "nbconvert_exporter": "python",
   "pygments_lexer": "ipython3",
   "version": "3.12.4"
  }
 },
 "nbformat": 4,
 "nbformat_minor": 5
}
