{
 "cells": [
  {
   "cell_type": "code",
   "execution_count": 1,
   "id": "1ebff4d8-b028-4865-8cbe-deaa847d2d8b",
   "metadata": {},
   "outputs": [],
   "source": [
    "from PIL import Image\n",
    "from imgTools import *"
   ]
  },
  {
   "cell_type": "code",
   "execution_count": 2,
   "id": "de4cc005",
   "metadata": {},
   "outputs": [],
   "source": [
    "imageDir = \"C:/Users/admin/Documents/GitHub/Computer-Vision/Images\"\n",
    "imageList = get_image_list(imageDir)\n",
    "image = imageList[0]"
   ]
  },
  {
   "cell_type": "code",
   "execution_count": null,
   "id": "79471962",
   "metadata": {},
   "outputs": [],
   "source": [
    "display(image)"
   ]
  }
 ],
 "metadata": {
  "kernelspec": {
   "display_name": "Python 3 (ipykernel)",
   "language": "python",
   "name": "python3"
  },
  "language_info": {
   "codemirror_mode": {
    "name": "ipython",
    "version": 3
   },
   "file_extension": ".py",
   "mimetype": "text/x-python",
   "name": "python",
   "nbconvert_exporter": "python",
   "pygments_lexer": "ipython3",
   "version": "3.12.4"
  }
 },
 "nbformat": 4,
 "nbformat_minor": 5
}
