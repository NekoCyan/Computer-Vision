{
 "cells": [
  {
   "cell_type": "code",
   "execution_count": 99,
   "id": "1ebff4d8-b028-4865-8cbe-deaa847d2d8b",
   "metadata": {},
   "outputs": [],
   "source": [
    "import cv2\n",
    "import time"
   ]
  },
  {
   "cell_type": "code",
   "execution_count": 100,
   "id": "de4cc005",
   "metadata": {},
   "outputs": [],
   "source": [
    "folderPath = \"C:/Users/admin/Documents/GitHub/Computer-Vision/Images\"\n",
    "videoPath = folderPath + \"/CristianoRonaldoDrinking.mp4\""
   ]
  },
  {
   "cell_type": "code",
   "execution_count": 101,
   "id": "162873de",
   "metadata": {},
   "outputs": [],
   "source": [
    "myVideo = cv2.VideoCapture(videoPath)"
   ]
  },
  {
   "cell_type": "code",
   "execution_count": 102,
   "id": "6818466d",
   "metadata": {},
   "outputs": [],
   "source": [
    "cv2.namedWindow('7Drinking', cv2.WINDOW_NORMAL)"
   ]
  },
  {
   "cell_type": "code",
   "execution_count": 103,
   "id": "029ea186",
   "metadata": {},
   "outputs": [],
   "source": [
    "font = cv2.FONT_HERSHEY_SIMPLEX\n",
    "fontScale = 1.5\n",
    "fontColorGreen = (0, 255, 0)\n",
    "fontThickness = 5"
   ]
  },
  {
   "cell_type": "code",
   "execution_count": 104,
   "id": "304006be",
   "metadata": {},
   "outputs": [],
   "source": [
    "# Hiển thị từng khung ảnh\n",
    "while True:\n",
    "    startTime = time.time()\n",
    "\n",
    "    # Đọc 1 frame\n",
    "    ret, frame = myVideo.read()\n",
    "\n",
    "    # time.sleep(1 / 60)\n",
    "\n",
    "    endTime = time.time()\n",
    "\n",
    "    fps = 0\n",
    "    if endTime - startTime != 0: # Avoid division by zero error\n",
    "        fps = 1/(endTime - startTime)\n",
    "\n",
    "    cv2.putText(frame, \"FPS: {:.2f}\".format(fps), (10, 50), font, fontScale, fontColorGreen, fontThickness)\n",
    "\n",
    "    # Thoát khi không thể đọc được frame\n",
    "    if not ret:\n",
    "        break\n",
    "\n",
    "    # Hiển thị\n",
    "    cv2.imshow(\"7Drinking\", frame)\n",
    "\n",
    "    if cv2.waitKey(10) == ord(\"q\"):\n",
    "        break"
   ]
  },
  {
   "cell_type": "code",
   "execution_count": 105,
   "id": "8f493906",
   "metadata": {},
   "outputs": [],
   "source": [
    "myVideo.release()\n",
    "cv2.destroyAllWindows()"
   ]
  },
  {
   "cell_type": "markdown",
   "id": "c1b5c969",
   "metadata": {},
   "source": []
  }
 ],
 "metadata": {
  "kernelspec": {
   "display_name": "base",
   "language": "python",
   "name": "python3"
  },
  "language_info": {
   "codemirror_mode": {
    "name": "ipython",
    "version": 3
   },
   "file_extension": ".py",
   "mimetype": "text/x-python",
   "name": "python",
   "nbconvert_exporter": "python",
   "pygments_lexer": "ipython3",
   "version": "3.12.4"
  }
 },
 "nbformat": 4,
 "nbformat_minor": 5
}
