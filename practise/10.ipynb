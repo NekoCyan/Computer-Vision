{
 "cells": [
  {
   "cell_type": "code",
   "execution_count": 30,
   "id": "1ebff4d8-b028-4865-8cbe-deaa847d2d8b",
   "metadata": {},
   "outputs": [],
   "source": [
    "from PIL import Image\n",
    "from imgTools import *\n",
    "import matplotlib.pyplot as plt"
   ]
  },
  {
   "cell_type": "code",
   "execution_count": 31,
   "id": "de4cc005",
   "metadata": {},
   "outputs": [],
   "source": [
    "imageDir = \"C:/Users/admin/Documents/GitHub/Computer-Vision/Images\""
   ]
  },
  {
   "cell_type": "code",
   "execution_count": 32,
   "id": "c076dfa0",
   "metadata": {},
   "outputs": [],
   "source": [
    "imageList = get_image_list(imageDir)\n",
    "image = imageList[0]"
   ]
  },
  {
   "cell_type": "code",
   "execution_count": 33,
   "id": "848c92aa",
   "metadata": {},
   "outputs": [
    {
     "name": "stdout",
     "output_type": "stream",
     "text": [
      "[(274.33982683982686, 217.82034632034583), (302.04545454545473, 561.3701298701296), (346.3744588744589, 899.3787878787875), (889.4047619047622, 1082.2359307359304), (1205.248917748918, 511.49999999999955)]\n"
     ]
    }
   ],
   "source": [
    "# Switch to TkAgg backend to allow for interactive plotting\n",
    "plt.switch_backend('TkAgg')\n",
    "\n",
    "plt.imshow(image)\n",
    "plt.title(\"Click on the image to select a point\")\n",
    "\n",
    "# Get the point from the user\n",
    "points = plt.ginput(5)\n",
    "plt.close()\n",
    "\n",
    "# Print the points\n",
    "print(points)"
   ]
  },
  {
   "cell_type": "code",
   "execution_count": 34,
   "id": "476f61e1",
   "metadata": {},
   "outputs": [],
   "source": [
    "# vẽ lại\n",
    "plt.imshow(image)\n",
    "for point in points:\n",
    "    x, y = point\n",
    "    plt.plot(x, y, \"r*\")\n",
    "\n",
    "plt.title(\"You have selected 5 points\")\n",
    "plt.show()"
   ]
  },
  {
   "cell_type": "code",
   "execution_count": null,
   "id": "f56cfe73",
   "metadata": {},
   "outputs": [],
   "source": []
  }
 ],
 "metadata": {
  "kernelspec": {
   "display_name": "Python 3 (ipykernel)",
   "language": "python",
   "name": "python3"
  },
  "language_info": {
   "codemirror_mode": {
    "name": "ipython",
    "version": 3
   },
   "file_extension": ".py",
   "mimetype": "text/x-python",
   "name": "python",
   "nbconvert_exporter": "python",
   "pygments_lexer": "ipython3",
   "version": "3.12.4"
  }
 },
 "nbformat": 4,
 "nbformat_minor": 5
}
